{
 "cells": [
  {
   "cell_type": "code",
   "execution_count": 2,
   "metadata": {},
   "outputs": [
    {
     "name": "stdout",
     "output_type": "stream",
     "text": [
      "\n",
      "La ecuación de regresión lineal es: y = -2.65x + 155.1\n"
     ]
    }
   ],
   "source": [
    "def regresion_lineal(x, y):\n",
    "    n = len(x)\n",
    "\n",
    "    # Calcular sumatorias necesarias\n",
    "    sumX = sum(x)\n",
    "    sumY = sum(y)\n",
    "    sumXY = sum(xi*yi for xi, yi in zip(x, y))\n",
    "    sumX2 = sum(xi**2 for xi in x)\n",
    "\n",
    "    # Calcular la pendiente (m) y la ordenada al origen (b)\n",
    "    m = (n * sumXY - sumX * sumY) / (n * sumX2 - sumX**2)\n",
    "    b = (sumY - m * sumX) / n\n",
    "\n",
    "    return m, b\n",
    "\n",
    "if __name__ == \"__main__\":\n",
    "    # Ejemplo de datos de entrada\n",
    "    n = int(input(\"Ingrese el número de puntos de datos que se tienen: \"))\n",
    "\n",
    "    # Arreglo de tamaño n que almacenará los valores de la variable independiente.\n",
    "    x = [float(input(f\"Ingrese el valor {i + 1} de la variable independiente: \")) for i in range(n)]\n",
    "\n",
    "    # Arreglo de tamaño n que almacenará los valores de la variable dependiente.\n",
    "    y = [float(input(f\"Ingrese el valor {i + 1} de la variable dependiente: \")) for i in range(n)]\n",
    "\n",
    "    # Realizar regresión lineal\n",
    "    m, b = regresion_lineal(x, y)\n",
    "\n",
    "    # Mostrar resultados\n",
    "    print(f\"\\nLa ecuación de regresión lineal es: y = {m}x + {b}\")\n"
   ]
  },
  {
   "cell_type": "code",
   "execution_count": null,
   "metadata": {},
   "outputs": [],
   "source": []
  }
 ],
 "metadata": {
  "kernelspec": {
   "display_name": "Python 3",
   "language": "python",
   "name": "python3"
  },
  "language_info": {
   "codemirror_mode": {
    "name": "ipython",
    "version": 3
   },
   "file_extension": ".py",
   "mimetype": "text/x-python",
   "name": "python",
   "nbconvert_exporter": "python",
   "pygments_lexer": "ipython3",
   "version": "3.11.5"
  }
 },
 "nbformat": 4,
 "nbformat_minor": 2
}
