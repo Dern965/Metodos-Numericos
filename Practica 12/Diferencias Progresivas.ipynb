{
 "cells": [
  {
   "cell_type": "code",
   "execution_count": 1,
   "metadata": {},
   "outputs": [
    {
     "name": "stdout",
     "output_type": "stream",
     "text": [
      "La aproximación de la derivada en x = 24.0 es: 48.0\n"
     ]
    }
   ],
   "source": [
    "def f(x):\n",
    "    return x**2\n",
    "\n",
    "def diferencias_finitas(x, h):\n",
    "    der = (f(x + h) - f(x - h)) / (2 * h)\n",
    "    return der\n",
    "\n",
    "if __name__ == \"__main__\":\n",
    "    # Punto en el que se calculará la derivada\n",
    "    x = float(input(\"En qué punto deseas calcular la aproximación de la derivada: \"))\n",
    "\n",
    "    # Distancia entre los puntos de evaluación en la función\n",
    "    # Un h más pequeño implica mayor precisión, pero puede llevar a desbordamientos\n",
    "    h = float(input(\"Con qué distancia deseas hacer la aproximación: \"))\n",
    "\n",
    "    # Calcular la derivada numérica en el punto dado\n",
    "    derivada = diferencias_finitas(x, h)\n",
    "\n",
    "    print(f\"La aproximación de la derivada en x = {x} es: {derivada}\")\n"
   ]
  },
  {
   "cell_type": "code",
   "execution_count": null,
   "metadata": {},
   "outputs": [],
   "source": []
  }
 ],
 "metadata": {
  "kernelspec": {
   "display_name": "Python 3",
   "language": "python",
   "name": "python3"
  },
  "language_info": {
   "codemirror_mode": {
    "name": "ipython",
    "version": 3
   },
   "file_extension": ".py",
   "mimetype": "text/x-python",
   "name": "python",
   "nbconvert_exporter": "python",
   "pygments_lexer": "ipython3",
   "version": "3.11.5"
  }
 },
 "nbformat": 4,
 "nbformat_minor": 2
}
