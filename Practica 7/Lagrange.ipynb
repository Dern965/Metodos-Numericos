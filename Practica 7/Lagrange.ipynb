{
 "cells": [
  {
   "cell_type": "code",
   "execution_count": 2,
   "metadata": {},
   "outputs": [
    {
     "name": "stdout",
     "output_type": "stream",
     "text": [
      "\n",
      "Los puntos que desea evaluar en la función son:\n",
      "1.0 2.0 3.0 \n",
      "\n",
      "Los valores de los puntos evaluados en la función son:\n",
      "1.0 2.0 3.0 \n",
      "\n",
      "El valor interpolado en x = 1.0 es: 1.0\n"
     ]
    }
   ],
   "source": [
    "def arr(a):\n",
    "    for i in a:\n",
    "        print(i, end=\" \")\n",
    "    print()\n",
    "\n",
    "def inter_lagrange(x, y, p):\n",
    "    val = 0\n",
    "\n",
    "    for i in range(len(x)):\n",
    "        v = y[i]\n",
    "        for j in range(len(x)):\n",
    "            if j != i:\n",
    "                v = v * (p - x[j]) / (x[i] - x[j])\n",
    "        val += v\n",
    "\n",
    "    return val\n",
    "\n",
    "if __name__ == \"__main__\":\n",
    "    # Datos de entrada (puntos conocidos)\n",
    "    p_inter = float(input(\"¿Qué punto quiere interpolar? \"))\n",
    "    n = int(input(\"Número de puntos conocidos: \"))\n",
    "\n",
    "    x = [float(input(f\"Ingrese el punto {i + 1} que quiere evaluar en la función: \")) for i in range(n)]\n",
    "    y = [float(input(f\"Ingrese el valor del punto {i + 1} evaluado en la función (f(x) o y): \")) for i in range(n)]\n",
    "\n",
    "    # Realizar la interpolación.\n",
    "    p = inter_lagrange(x, y, p_inter)\n",
    "\n",
    "    # Imprimir ambos arreglos donde se almacenan sus respectivos valores\n",
    "    print(\"\\nLos puntos que desea evaluar en la función son:\")\n",
    "    arr(x)\n",
    "    print(\"\\nLos valores de los puntos evaluados en la función son:\")\n",
    "    arr(y)\n",
    "\n",
    "    # Imprimir el resultado\n",
    "    print(f\"\\nEl valor interpolado en x = {p_inter} es: {p}\")\n"
   ]
  },
  {
   "cell_type": "code",
   "execution_count": null,
   "metadata": {},
   "outputs": [],
   "source": []
  }
 ],
 "metadata": {
  "kernelspec": {
   "display_name": "Python 3",
   "language": "python",
   "name": "python3"
  },
  "language_info": {
   "codemirror_mode": {
    "name": "ipython",
    "version": 3
   },
   "file_extension": ".py",
   "mimetype": "text/x-python",
   "name": "python",
   "nbconvert_exporter": "python",
   "pygments_lexer": "ipython3",
   "version": "3.11.5"
  }
 },
 "nbformat": 4,
 "nbformat_minor": 2
}
