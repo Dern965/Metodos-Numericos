{
 "cells": [
  {
   "cell_type": "code",
   "execution_count": 1,
   "metadata": {},
   "outputs": [
    {
     "name": "stdout",
     "output_type": "stream",
     "text": [
      "\n",
      "Matriz de interpolación:\n",
      "0.6911 0 0\n",
      "0.7885 0.7398000000000001 0\n",
      "0.8329 0.7440999999999998 0.7412333333333333\n",
      "\n",
      "\n",
      "El valor interpolado en x = 2.1 es: 0.7412333333333333\n"
     ]
    }
   ],
   "source": [
    "# Función para imprimir una matriz, en este caso la matriz de interpolación.\n",
    "def print_matriz_inter(mat):\n",
    "    for row in mat:\n",
    "        print(\" \".join(map(str, row)))\n",
    "    print()\n",
    "\n",
    "# Método de Neville implementado para interpolación polinómica\n",
    "def neville(x, y, p):\n",
    "    n = len(x)\n",
    "\n",
    "    # Creamos e inicializamos la matriz de interpolación\n",
    "    Q = [[0] * n for _ in range(n)]\n",
    "\n",
    "    # Inicializamos la primera columna con los valores de y\n",
    "    for i in range(n):\n",
    "        Q[i][0] = y[i]\n",
    "\n",
    "    # Calculamos la matriz de interpolación\n",
    "    for i in range(1, n):\n",
    "        for j in range(1, i + 1):\n",
    "            Q[i][j] = ((p - x[i - j]) * Q[i][j - 1] - (p - x[i]) * Q[i - 1][j - 1]) / (x[i] - x[i - j])\n",
    "\n",
    "    # Imprimir la matriz de interpolación\n",
    "    print(\"\\nMatriz de interpolación:\")\n",
    "    print_matriz_inter(Q)\n",
    "\n",
    "    # El resultado final está en la esquina inferior derecha de la matriz\n",
    "    res = Q[n - 1][n - 1]\n",
    "\n",
    "    return res\n",
    "\n",
    "if __name__ == \"__main__\":\n",
    "    # Datos de entrada (puntos conocidos)\n",
    "    p_inter = float(input(\"¿Qué punto quiere interpolar? \"))\n",
    "    n = int(input(\"Número de puntos conocidos: \"))\n",
    "\n",
    "    # Arreglos del tamaño n. En el arreglo x se almacenarán los puntos a evaluar.\n",
    "    # En el arreglo y se almacenarán los resultados de evaluar los puntos en la función\n",
    "    x = [float(input(f\"Ingrese el punto {i + 1} que quiere evaluar en la función: \")) for i in range(n)]\n",
    "    y = [float(input(f\"Ingrese el valor del punto {i + 1} evaluado en la función (f(x) o y): \")) for i in range(n)]\n",
    "\n",
    "    # Realizar la interpolación\n",
    "    Q = neville(x, y, p_inter)\n",
    "\n",
    "    # Imprimir el resultado\n",
    "    print(f\"\\nEl valor interpolado en x = {p_inter} es: {Q}\")\n"
   ]
  },
  {
   "cell_type": "code",
   "execution_count": null,
   "metadata": {},
   "outputs": [],
   "source": []
  }
 ],
 "metadata": {
  "kernelspec": {
   "display_name": "Python 3",
   "language": "python",
   "name": "python3"
  },
  "language_info": {
   "codemirror_mode": {
    "name": "ipython",
    "version": 3
   },
   "file_extension": ".py",
   "mimetype": "text/x-python",
   "name": "python",
   "nbconvert_exporter": "python",
   "pygments_lexer": "ipython3",
   "version": "3.11.5"
  }
 },
 "nbformat": 4,
 "nbformat_minor": 2
}
