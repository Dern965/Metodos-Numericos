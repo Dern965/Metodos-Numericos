{
 "cells": [
  {
   "cell_type": "code",
   "execution_count": 1,
   "metadata": {},
   "outputs": [
    {
     "name": "stdout",
     "output_type": "stream",
     "text": [
      "La aproximación de la raíz es: 0.7390851332150645\n"
     ]
    }
   ],
   "source": [
    "import math\n",
    "\n",
    "def f(x):\n",
    "    return math.cos(x) - x\n",
    "\n",
    "def secante(p0, p1, TOL, max_i):\n",
    "    i = 2\n",
    "    q0 = f(p0)\n",
    "    q1 = f(p1)\n",
    "    p = 0\n",
    "\n",
    "    while i <= max_i:\n",
    "        p = p1 - q1 * (p1 - p0) / (q1 - q0)  # Cálculo de p_i\n",
    "\n",
    "        if abs(p - p1) < TOL:\n",
    "            return p\n",
    "\n",
    "        i += 1\n",
    "\n",
    "        # Se redefine p0, q0, p1 y q1\n",
    "        p0, q0, p1, q1 = p1, q1, p, f(p)\n",
    "\n",
    "    print(\"El método falló después de\", max_i, \"iteraciones\")\n",
    "    return 0\n",
    "\n",
    "if __name__ == \"__main__\":\n",
    "    pi = math.pi\n",
    "    p0 = 0.5\n",
    "    p1 = pi / 4\n",
    "    TOL = 0.000001\n",
    "    max_i = 1000\n",
    "\n",
    "    p = secante(p0, p1, TOL, max_i)\n",
    "\n",
    "    print(\"La aproximación de la raíz es:\", p)\n"
   ]
  },
  {
   "cell_type": "code",
   "execution_count": null,
   "metadata": {},
   "outputs": [],
   "source": []
  }
 ],
 "metadata": {
  "kernelspec": {
   "display_name": "Python 3",
   "language": "python",
   "name": "python3"
  },
  "language_info": {
   "codemirror_mode": {
    "name": "ipython",
    "version": 3
   },
   "file_extension": ".py",
   "mimetype": "text/x-python",
   "name": "python",
   "nbconvert_exporter": "python",
   "pygments_lexer": "ipython3",
   "version": "3.11.5"
  }
 },
 "nbformat": 4,
 "nbformat_minor": 2
}
