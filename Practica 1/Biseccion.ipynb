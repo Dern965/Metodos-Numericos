{
 "cells": [
  {
   "cell_type": "code",
   "execution_count": 1,
   "metadata": {},
   "outputs": [
    {
     "name": "stdout",
     "output_type": "stream",
     "text": [
      "La raíz aproximada es: 1.36517333984375\n"
     ]
    }
   ],
   "source": [
    "def f(x):\n",
    "    return x**3 + 4*x**2 - 10\n",
    "\n",
    "def biseccion(a, b, TOL, max_iteraciones):\n",
    "    i = 1\n",
    "    FA = f(a)\n",
    "    p = 0\n",
    "    FP = 0\n",
    "\n",
    "    while i <= max_iteraciones:\n",
    "        p = a + (b - a) / 2\n",
    "        FP = f(p)\n",
    "\n",
    "        if FP == 0 or (b - a) / 2 < TOL:\n",
    "            return p\n",
    "\n",
    "        i += 1\n",
    "\n",
    "        if FA * FP > 0:\n",
    "            a = p\n",
    "            FA = FP\n",
    "        else:\n",
    "            b = p\n",
    "\n",
    "    print(\"El método fracasó después de\", max_iteraciones, \"iteraciones\")\n",
    "    print(\"No hubo éxito ):\")\n",
    "    return 0\n",
    "\n",
    "if __name__ == \"__main__\":\n",
    "    a = 1\n",
    "    b = 2\n",
    "    TOL = 0.0001\n",
    "    max_iteraciones = 100\n",
    "\n",
    "    p = biseccion(a, b, TOL, max_iteraciones)\n",
    "\n",
    "    print(\"La raíz aproximada es:\", p)\n"
   ]
  },
  {
   "cell_type": "code",
   "execution_count": null,
   "metadata": {},
   "outputs": [],
   "source": []
  }
 ],
 "metadata": {
  "kernelspec": {
   "display_name": "Python 3",
   "language": "python",
   "name": "python3"
  },
  "language_info": {
   "codemirror_mode": {
    "name": "ipython",
    "version": 3
   },
   "file_extension": ".py",
   "mimetype": "text/x-python",
   "name": "python",
   "nbconvert_exporter": "python",
   "pygments_lexer": "ipython3",
   "version": "3.11.5"
  }
 },
 "nbformat": 4,
 "nbformat_minor": 2
}
