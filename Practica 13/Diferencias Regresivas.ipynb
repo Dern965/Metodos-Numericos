{
 "cells": [
  {
   "cell_type": "code",
   "execution_count": 1,
   "metadata": {},
   "outputs": [
    {
     "name": "stdout",
     "output_type": "stream",
     "text": [
      "\n",
      "Tabla de diferencias divididas:\n",
      "23.000000\t\n",
      "54.000000\t0.704545\t\n",
      "\n",
      "El valor interpolado en x = 34.0 es: 38.5\n"
     ]
    }
   ],
   "source": [
    "def arr(a):\n",
    "    for value in a:\n",
    "        print(f\"|{value}|\", end=\" \")\n",
    "    print()\n",
    "\n",
    "def Newton_ddi(x, y, p, n):\n",
    "    # Crear una matriz para almacenar las diferencias divididas\n",
    "    dif_div = [[0] * n for _ in range(n)]\n",
    "\n",
    "    # Inicializar la primera columna con los valores de y\n",
    "    for i in range(n):\n",
    "        dif_div[i][0] = y[i]\n",
    "\n",
    "    # Calcular las diferencias divididas\n",
    "    for j in range(1, n):\n",
    "        for i in range(j, n):\n",
    "            dif_div[i][j] = (dif_div[i][j-1] - dif_div[i-1][j-1]) / (x[i] - x[i-j])\n",
    "\n",
    "    # Imprimir la tabla de diferencias divididas para visualizar el proceso\n",
    "    print(\"\\nTabla de diferencias divididas:\")\n",
    "    for i in range(n):\n",
    "        for j in range(i+1):\n",
    "            print(f\"{dif_div[i][j]:.6f}\\t\", end=\"\")\n",
    "        print()\n",
    "\n",
    "    # Calcular el término del polinomio interpolante de Newton\n",
    "    res = dif_div[0][0]\n",
    "    v = 1.0\n",
    "\n",
    "    for i in range(1, n):\n",
    "        v *= (p - x[i-1])\n",
    "        res += dif_div[i][i] * v\n",
    "\n",
    "    return res\n",
    "\n",
    "if __name__ == \"__main__\":\n",
    "    # Punto en el que se calculará la interpolación\n",
    "    p_inter = float(input(\"Ingrese el punto que desea interpolar: \"))\n",
    "\n",
    "    # Número de datos conocidos\n",
    "    n = int(input(\"Número de puntos que se conocen: \"))\n",
    "\n",
    "    # Arreglos de tamaño n para almacenar los puntos a evaluar y los resultados de evaluar los puntos en la función\n",
    "    x = [float(input(f\"Ingrese el punto {i+1} que quiere evaluar en la función: \")) for i in range(n)]\n",
    "    y = [float(input(f\"Ingrese el valor del punto {i+1} evaluado en la función (f(x) o y): \")) for i in range(n)]\n",
    "\n",
    "    # Realizar la interpolación\n",
    "    p_resultado = Newton_ddi(x, y, p_inter, n)\n",
    "\n",
    "    # Imprimir el resultado\n",
    "    print(f\"\\nEl valor interpolado en x = {p_inter} es: {p_resultado}\")\n"
   ]
  },
  {
   "cell_type": "code",
   "execution_count": null,
   "metadata": {},
   "outputs": [],
   "source": []
  }
 ],
 "metadata": {
  "kernelspec": {
   "display_name": "Python 3",
   "language": "python",
   "name": "python3"
  },
  "language_info": {
   "codemirror_mode": {
    "name": "ipython",
    "version": 3
   },
   "file_extension": ".py",
   "mimetype": "text/x-python",
   "name": "python",
   "nbconvert_exporter": "python",
   "pygments_lexer": "ipython3",
   "version": "3.11.5"
  }
 },
 "nbformat": 4,
 "nbformat_minor": 2
}
