{
 "cells": [
  {
   "cell_type": "code",
   "execution_count": 2,
   "metadata": {},
   "outputs": [
    {
     "name": "stdout",
     "output_type": "stream",
     "text": [
      "La derivada numérica por diferencia regresiva en x = 2.0 es: 3.999998999582033\n"
     ]
    }
   ],
   "source": [
    "def f(x):\n",
    "    return x*x\n",
    "\n",
    "def derivada_regresiva(x, h):\n",
    "    return (f(x) - f(x - h)) / h\n",
    "\n",
    "if __name__ == \"__main__\":\n",
    "    x = float(input(\"En qué punto desea calcular la derivada: \"))\n",
    "    h = float(input(\"Ingrese el tamaño del paso: \"))\n",
    "\n",
    "    dn_dif_regre = derivada_regresiva(x, h)\n",
    "\n",
    "    print(f\"La derivada numérica por diferencia regresiva en x = {x} es: {dn_dif_regre}\")\n"
   ]
  },
  {
   "cell_type": "code",
   "execution_count": null,
   "metadata": {},
   "outputs": [],
   "source": []
  }
 ],
 "metadata": {
  "kernelspec": {
   "display_name": "Python 3",
   "language": "python",
   "name": "python3"
  },
  "language_info": {
   "codemirror_mode": {
    "name": "ipython",
    "version": 3
   },
   "file_extension": ".py",
   "mimetype": "text/x-python",
   "name": "python",
   "nbconvert_exporter": "python",
   "pygments_lexer": "ipython3",
   "version": "3.11.5"
  }
 },
 "nbformat": 4,
 "nbformat_minor": 2
}
