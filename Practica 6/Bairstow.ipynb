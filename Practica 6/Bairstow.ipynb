{
 "cells": [
  {
   "cell_type": "code",
   "execution_count": 1,
   "metadata": {},
   "outputs": [],
   "source": [
    "import numpy as np"
   ]
  },
  {
   "cell_type": "code",
   "execution_count": 2,
   "metadata": {},
   "outputs": [],
   "source": [
    "def bairstow(coefficients, r, s, tol=1e-10, max_iter=100):\n",
    "    n = len(coefficients) - 1  # Grado del polinomio\n",
    "\n",
    "    # Inicialización de las listas de r y s\n",
    "    r_values = [r]\n",
    "    s_values = [s]\n",
    "\n",
    "    for _ in range(max_iter):\n",
    "        # Inicialización de las variables\n",
    "        b = [0] * (n + 1)\n",
    "        c = [0] * (n + 1)\n",
    "\n",
    "        # Paso 1: Calcular b y c\n",
    "        b[n] = coefficients[n]\n",
    "        b[n - 1] = coefficients[n - 1] + r * b[n]\n",
    "        c[n] = b[n]\n",
    "        c[n - 1] = b[n - 1] + r * c[n]\n",
    "\n",
    "        for i in range(n - 2, -1, -1):\n",
    "            b[i] = coefficients[i] + r * b[i + 1] + s * b[i + 2]\n",
    "            c[i] = b[i] + r * c[i + 1] + s * c[i + 2]\n",
    "\n",
    "        # Paso 2: Calcular dr, ds, y actualizaciones de r y s\n",
    "        det = c[2] * c[2] - c[1] * c[3]\n",
    "        dr = (-b[1] * c[2] + b[0] * c[3]) / det\n",
    "        ds = (-b[0] * c[2] + b[1] * c[1]) / det\n",
    "\n",
    "        r += dr\n",
    "        s += ds\n",
    "\n",
    "        r_values.append(r)\n",
    "        s_values.append(s)\n",
    "\n",
    "        # Verificar la convergencia\n",
    "        if abs(dr) < tol and abs(ds) < tol:\n",
    "            break\n",
    "\n",
    "    return r_values, s_values"
   ]
  },
  {
   "cell_type": "code",
   "execution_count": 3,
   "metadata": {},
   "outputs": [],
   "source": [
    "coef = int(input(\"Ingrese el numero de coeficientes: \"))\n",
    "\n",
    "coef_polinomio = np.zeros(coef, dtype=int)\n",
    "\n",
    "# Pedir al usuario que ingrese los elementos del arreglo\n",
    "for i in range(coef):\n",
    "    coeficiente = int(input(f\"Ingrese el coeficiente numero {i + 1} del polinomio: \"))\n",
    "    coef_polinomio[i] = coeficiente\n",
    "\n",
    "# Variables utilizadas para aproximar las raices complejas conjugadas del polinomio.\n",
    "r_0 = float(input(\"Ingrese la r inicial: \"))  \n",
    "s_0 = float(input(\"Ingrese la s inicial: \"))  "
   ]
  },
  {
   "cell_type": "code",
   "execution_count": 4,
   "metadata": {},
   "outputs": [],
   "source": [
    "r_values, s_values = bairstow(coef_polinomio, r_0, s_0)"
   ]
  },
  {
   "cell_type": "code",
   "execution_count": 5,
   "metadata": {},
   "outputs": [
    {
     "name": "stdout",
     "output_type": "stream",
     "text": [
      "Raíces r encontradas: [1.0, 0.625, 0.2363636363636364, 0.20398966196105509, 0.19110412611900282, 0.1909830657591518, 0.1909830056250569, 0.19098300562505258]\n",
      "Raíces s encontradas: [1.0, 0.8125, 0.9633522727272728, 0.811431123012161, 0.8091973130737306, 0.8090170161284221, 0.8090169943749516, 0.8090169943749473]\n"
     ]
    }
   ],
   "source": [
    "print(\"Raíces r encontradas:\", r_values)\n",
    "print(\"Raíces s encontradas:\", s_values)"
   ]
  }
 ],
 "metadata": {
  "kernelspec": {
   "display_name": "Python 3",
   "language": "python",
   "name": "python3"
  },
  "language_info": {
   "codemirror_mode": {
    "name": "ipython",
    "version": 3
   },
   "file_extension": ".py",
   "mimetype": "text/x-python",
   "name": "python",
   "nbconvert_exporter": "python",
   "pygments_lexer": "ipython3",
   "version": "3.11.7"
  }
 },
 "nbformat": 4,
 "nbformat_minor": 2
}
