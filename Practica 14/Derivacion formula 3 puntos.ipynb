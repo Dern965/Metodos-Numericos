{
 "cells": [
  {
   "cell_type": "code",
   "execution_count": 1,
   "metadata": {},
   "outputs": [
    {
     "name": "stdout",
     "output_type": "stream",
     "text": [
      "La derivada numérica por fórmulas de 3 puntos en x = 2.0 es: 4.000000000026205\n"
     ]
    }
   ],
   "source": [
    "def f(x):\n",
    "    return x*x\n",
    "\n",
    "def derivada_3_puntos(x, h):\n",
    "    return (-f(x + 2*h) + 4*f(x + h) - 3*f(x)) / (2*h)\n",
    "\n",
    "if __name__ == \"__main__\":\n",
    "    x = float(input(\"En qué punto desea calcular la derivada: \"))\n",
    "    h = float(input(\"Ingrese el tamaño del paso: \"))\n",
    "\n",
    "    der_3p = derivada_3_puntos(x, h)\n",
    "\n",
    "    print(f\"La derivada numérica por fórmulas de 3 puntos en x = {x} es: {der_3p}\")\n"
   ]
  }
 ],
 "metadata": {
  "kernelspec": {
   "display_name": "Python 3",
   "language": "python",
   "name": "python3"
  },
  "language_info": {
   "codemirror_mode": {
    "name": "ipython",
    "version": 3
   },
   "file_extension": ".py",
   "mimetype": "text/x-python",
   "name": "python",
   "nbconvert_exporter": "python",
   "pygments_lexer": "ipython3",
   "version": "3.11.5"
  }
 },
 "nbformat": 4,
 "nbformat_minor": 2
}
