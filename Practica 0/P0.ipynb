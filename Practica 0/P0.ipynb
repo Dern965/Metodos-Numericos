{
 "cells": [
  {
   "cell_type": "markdown",
   "metadata": {},
   "source": [
    "# Practica 0: Aritmética de punto flotante (desbordamiento)\n",
    "***\n",
    "Rodriguez Nuñez Diego Eduardo"
   ]
  },
  {
   "cell_type": "code",
   "execution_count": 1,
   "metadata": {},
   "outputs": [],
   "source": [
    "import math"
   ]
  },
  {
   "cell_type": "markdown",
   "metadata": {},
   "source": [
    "Definimos las gravedades a usar"
   ]
  },
  {
   "cell_type": "code",
   "execution_count": 2,
   "metadata": {},
   "outputs": [],
   "source": [
    "Pi = 3.1416\n",
    "gt = 9.81\n",
    "gt20 = 9.80665215960352001615\n",
    "luna = 1.635\n",
    "Io = 1.796\n",
    "Europa = 1.314\n",
    "Ganimedes = 1.428\n",
    "Fobos = 0.0057\n",
    "Deimos = 0.003\n",
    "Titan = 1.352\n",
    "Rea = 0.127"
   ]
  },
  {
   "cell_type": "markdown",
   "metadata": {},
   "source": [
    "Y las funciones"
   ]
  },
  {
   "cell_type": "code",
   "execution_count": 3,
   "metadata": {},
   "outputs": [],
   "source": [
    "def rad(a):\n",
    "    Rad = a * Pi / 180\n",
    "\n",
    "    # Overflow checks (Python handles large numbers differently, so these can be adjusted or removed as needed)\n",
    "    int_part = int(Rad)\n",
    "    if int_part > math.inf or int_part < -math.inf:\n",
    "        print(\"There's an overflow in the integer part\")\n",
    "\n",
    "    mantissa, exponent = math.frexp(Rad)\n",
    "    if mantissa < -math.inf or mantissa > math.inf:\n",
    "        print(\"There's an overflow in the mantissa part\")\n",
    "\n",
    "    if exponent < -math.inf or exponent > math.inf:\n",
    "        print(\"There's an overflow in the exponent\")\n",
    "\n",
    "    return Rad\n"
   ]
  },
  {
   "cell_type": "code",
   "execution_count": 4,
   "metadata": {},
   "outputs": [],
   "source": [
    "def VoX(Vo, a):\n",
    "    vox = Vo * math.cos(a)\n",
    "\n",
    "    # Overflow checks (adjust or remove as needed)\n",
    "    int_part = int(vox)\n",
    "    if int_part > math.inf or int_part < -math.inf:\n",
    "        print(\"There is an overflow in the integer part\")\n",
    "\n",
    "    mantissa, exponent = math.frexp(vox)\n",
    "    if mantissa < -math.inf or mantissa > math.inf:\n",
    "        print(\"There is an overflow in the mantissa\")\n",
    "\n",
    "    if exponent < -math.inf or exponent > math.inf:\n",
    "        print(\"There is an overflow in the exponent\")\n",
    "\n",
    "    return vox"
   ]
  },
  {
   "cell_type": "code",
   "execution_count": 6,
   "metadata": {},
   "outputs": [
    {
     "ename": "NameError",
     "evalue": "name '__max_int__' is not defined",
     "output_type": "error",
     "traceback": [
      "\u001b[1;31m---------------------------------------------------------------------------\u001b[0m",
      "\u001b[1;31mNameError\u001b[0m                                 Traceback (most recent call last)",
      "Cell \u001b[1;32mIn[6], line 1\u001b[0m\n\u001b[1;32m----> 1\u001b[0m \u001b[38;5;28mprint\u001b[39m(\u001b[43m__max_int__\u001b[49m)\n",
      "\u001b[1;31mNameError\u001b[0m: name '__max_int__' is not defined"
     ]
    }
   ],
   "source": []
  },
  {
   "cell_type": "code",
   "execution_count": null,
   "metadata": {},
   "outputs": [],
   "source": []
  }
 ],
 "metadata": {
  "kernelspec": {
   "display_name": "Python 3",
   "language": "python",
   "name": "python3"
  },
  "language_info": {
   "codemirror_mode": {
    "name": "ipython",
    "version": 3
   },
   "file_extension": ".py",
   "mimetype": "text/x-python",
   "name": "python",
   "nbconvert_exporter": "python",
   "pygments_lexer": "ipython3",
   "version": "3.11.5"
  }
 },
 "nbformat": 4,
 "nbformat_minor": 2
}
