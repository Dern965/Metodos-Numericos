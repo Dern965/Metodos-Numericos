{
 "cells": [
  {
   "cell_type": "code",
   "execution_count": 1,
   "metadata": {},
   "outputs": [
    {
     "name": "stdout",
     "output_type": "stream",
     "text": [
      "La raíz es: 1.3652305756734338\n"
     ]
    }
   ],
   "source": [
    "def f(x):\n",
    "    return x**3 + 4*x**2 - 10\n",
    "\n",
    "def g(x):\n",
    "    return pow(10/(4+x), 0.5)\n",
    "\n",
    "def iter_pfijo(p0, TOL, max_iteraciones):\n",
    "    i = 1\n",
    "    p = 0\n",
    "\n",
    "    while i <= max_iteraciones:\n",
    "        p = g(p0)\n",
    "        if abs(p - p0) < TOL:\n",
    "            return p\n",
    "\n",
    "        i += 1\n",
    "\n",
    "        p0 = p\n",
    "\n",
    "    print(\"El método fracasó después de\", max_iteraciones, \"iteraciones\")\n",
    "    return 0\n",
    "\n",
    "if __name__ == \"__main__\":\n",
    "    p0 = 1.5\n",
    "    TOL = 0.00001\n",
    "    max_iteraciones = 100\n",
    "\n",
    "    p = iter_pfijo(p0, TOL, max_iteraciones)\n",
    "\n",
    "    print(\"La raíz es:\", p)\n"
   ]
  },
  {
   "cell_type": "code",
   "execution_count": null,
   "metadata": {},
   "outputs": [],
   "source": []
  }
 ],
 "metadata": {
  "kernelspec": {
   "display_name": "Python 3",
   "language": "python",
   "name": "python3"
  },
  "language_info": {
   "codemirror_mode": {
    "name": "ipython",
    "version": 3
   },
   "file_extension": ".py",
   "mimetype": "text/x-python",
   "name": "python",
   "nbconvert_exporter": "python",
   "pygments_lexer": "ipython3",
   "version": "3.11.5"
  }
 },
 "nbformat": 4,
 "nbformat_minor": 2
}
