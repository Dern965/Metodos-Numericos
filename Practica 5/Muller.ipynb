{
 "cells": [
  {
   "cell_type": "code",
   "execution_count": 1,
   "metadata": {},
   "outputs": [
    {
     "name": "stdout",
     "output_type": "stream",
     "text": [
      "El valor de la raíz es: 1.9704460787306015\n"
     ]
    }
   ],
   "source": [
    "def f(x):\n",
    "    return 16*x**4 - 40*x**3 + 5*x**2 + 20*x + 6\n",
    "\n",
    "def muller(x0, x1, x2, TOL, max_i):\n",
    "    h1 = x1 - x0\n",
    "    h2 = x2 - x1\n",
    "    S1 = (f(x1) - f(x0)) / h1\n",
    "    S2 = (f(x2) - f(x1)) / h2\n",
    "    d = (S2 - S1) / (h2 + h1)\n",
    "    i = 3\n",
    "\n",
    "    while i <= max_i:\n",
    "        b = S2 + h2 * d\n",
    "        D = (b**2 - 4 * f(x2) * d)**0.5\n",
    "\n",
    "        if abs(b - D) < abs(b + D):\n",
    "            E = b + D\n",
    "        else:\n",
    "            E = b - D\n",
    "\n",
    "        h = -2 * f(x2) / E\n",
    "        p = x2 + h\n",
    "\n",
    "        if abs(h) < TOL:\n",
    "            return p\n",
    "\n",
    "        x0, x1, x2 = x1, x2, p\n",
    "        h1 = x1 - x0\n",
    "        h2 = x2 - x1\n",
    "        S1 = (f(x1) - f(x0)) / h1\n",
    "        S2 = (f(x2) - f(x1)) / h2\n",
    "        d = (S2 - S1) / (h2 + h1)\n",
    "        i += 1\n",
    "\n",
    "    print(\"El método falló después de\", max_i, \"iteraciones\")\n",
    "    return 0\n",
    "\n",
    "if __name__ == \"__main__\":\n",
    "    x0 = 2.5\n",
    "    x1 = 2.0\n",
    "    x2 = 2.25\n",
    "    TOL = 1e-5\n",
    "    max_i = 1000\n",
    "\n",
    "    p = muller(x0, x1, x2, TOL, max_i)\n",
    "    print(\"El valor de la raíz es:\", p)\n"
   ]
  },
  {
   "cell_type": "code",
   "execution_count": null,
   "metadata": {},
   "outputs": [],
   "source": []
  }
 ],
 "metadata": {
  "kernelspec": {
   "display_name": "Python 3",
   "language": "python",
   "name": "python3"
  },
  "language_info": {
   "codemirror_mode": {
    "name": "ipython",
    "version": 3
   },
   "file_extension": ".py",
   "mimetype": "text/x-python",
   "name": "python",
   "nbconvert_exporter": "python",
   "pygments_lexer": "ipython3",
   "version": "3.11.5"
  }
 },
 "nbformat": 4,
 "nbformat_minor": 2
}
