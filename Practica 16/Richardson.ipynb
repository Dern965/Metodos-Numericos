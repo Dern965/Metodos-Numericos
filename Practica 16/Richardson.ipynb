{
 "cells": [
  {
   "cell_type": "code",
   "execution_count": 2,
   "metadata": {},
   "outputs": [
    {
     "name": "stdout",
     "output_type": "stream",
     "text": [
      "\n",
      "Aproximación de la integral definida por el método del trapecio: -1.106023619123133e+131\n",
      "\n",
      "Aproximación de la integral definida por el método de la regla compuesta de Simpson: -1.1060236191231237e+131\n",
      "\n",
      "Aproximación extrapolada: -1.1060236191231423e+131\n",
      "\n"
     ]
    }
   ],
   "source": [
    "import math\n",
    "\n",
    "def f(x):\n",
    "    e = math.e\n",
    "    return math.pow(e, 2*x) * math.sin(3*x)  # Puedes cambiar esta función según tus necesidades\n",
    "\n",
    "def Trapecio(a, b, n):\n",
    "    h = (b - a) / n\n",
    "    res = (f(a) + f(b)) / 2\n",
    "\n",
    "    for i in range(1, n):\n",
    "        x = a + i * h\n",
    "        res += f(x)\n",
    "\n",
    "    res *= h\n",
    "    return res\n",
    "\n",
    "def Simpson_RCom(a, b, n):\n",
    "    h = (b - a) / n\n",
    "    sum = f(a) + f(b)\n",
    "\n",
    "    for i in range(1, n, 2):\n",
    "        sum += 4 * f(a + i * h)\n",
    "\n",
    "    for i in range(2, n - 1, 2):\n",
    "        sum += 2 * f(a + i * h)\n",
    "\n",
    "    return (h / 3) * sum\n",
    "\n",
    "def Richardson_EP(h, res_metod1, res_metod2):\n",
    "    return (2 * res_metod1 - res_metod2) / (2 - 1)\n",
    "\n",
    "if __name__ == \"__main__\":\n",
    "    # Definir los límites de integración y el número de subintervalos\n",
    "    a, b = float(input(\"Ingrese el limite inferior de la integral (a): \")), float(input(\"Ingrese el limite superior de la integral (b): \"))\n",
    "    nTrap, nSimpson = int(input(\"Ingrese el numero de subdivisiones para el metodo del trapecio (n_Trap): \")), int(input(\"Ingrese el numero de subdivisiones para el metodo de Simpson (n_Simpson): \"))\n",
    "\n",
    "    res_trapecio = Trapecio(a, b, nTrap)\n",
    "    res_rcSimpson = Simpson_RCom(a, b, nSimpson)\n",
    "    res_extrapol_Richardson = Richardson_EP((b - a) / nTrap, res_trapecio, res_rcSimpson)\n",
    "\n",
    "    print(f\"\\nAproximación de la integral definida por el método del trapecio: {res_trapecio}\\n\")\n",
    "    print(f\"Aproximación de la integral definida por el método de la regla compuesta de Simpson: {res_rcSimpson}\\n\")\n",
    "    print(f\"Aproximación extrapolada: {res_extrapol_Richardson}\\n\")\n"
   ]
  },
  {
   "cell_type": "code",
   "execution_count": null,
   "metadata": {},
   "outputs": [],
   "source": []
  }
 ],
 "metadata": {
  "kernelspec": {
   "display_name": "Python 3",
   "language": "python",
   "name": "python3"
  },
  "language_info": {
   "codemirror_mode": {
    "name": "ipython",
    "version": 3
   },
   "file_extension": ".py",
   "mimetype": "text/x-python",
   "name": "python",
   "nbconvert_exporter": "python",
   "pygments_lexer": "ipython3",
   "version": "3.11.5"
  }
 },
 "nbformat": 4,
 "nbformat_minor": 2
}
