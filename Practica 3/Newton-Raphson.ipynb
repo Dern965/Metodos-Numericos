{
 "cells": [
  {
   "cell_type": "code",
   "execution_count": 1,
   "metadata": {},
   "outputs": [
    {
     "name": "stdout",
     "output_type": "stream",
     "text": [
      "La raíz es: 0.739085133215161\n"
     ]
    }
   ],
   "source": [
    "import math\n",
    "\n",
    "def f(x):\n",
    "    return math.cos(x) - x\n",
    "\n",
    "def f_prima(x):\n",
    "    return -math.sin(x) - 1\n",
    "\n",
    "def newton_raphson(p0, TOL, max_i):\n",
    "    i = 1\n",
    "    p = 0\n",
    "\n",
    "    while i <= max_i:\n",
    "        p = p0 - f(p0) / f_prima(p0)\n",
    "\n",
    "        if abs(p - p0) < TOL:\n",
    "            return p  # Ha convergido correctamente\n",
    "\n",
    "        i += 1\n",
    "\n",
    "        p0 = p\n",
    "\n",
    "    print(\"El método fracasó después de\", max_i, \"iteraciones\")\n",
    "    return 0\n",
    "\n",
    "if __name__ == \"__main__\":\n",
    "    pi = math.pi\n",
    "    p0 = pi / 4\n",
    "    TOL = 0.000001\n",
    "    max_i = 1000\n",
    "\n",
    "    p = newton_raphson(p0, TOL, max_i)\n",
    "\n",
    "    print(\"La raíz es:\", p)\n"
   ]
  },
  {
   "cell_type": "code",
   "execution_count": null,
   "metadata": {},
   "outputs": [],
   "source": []
  }
 ],
 "metadata": {
  "kernelspec": {
   "display_name": "Python 3",
   "language": "python",
   "name": "python3"
  },
  "language_info": {
   "codemirror_mode": {
    "name": "ipython",
    "version": 3
   },
   "file_extension": ".py",
   "mimetype": "text/x-python",
   "name": "python",
   "nbconvert_exporter": "python",
   "pygments_lexer": "ipython3",
   "version": "3.11.5"
  }
 },
 "nbformat": 4,
 "nbformat_minor": 2
}
