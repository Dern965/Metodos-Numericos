{
 "cells": [
  {
   "cell_type": "code",
   "execution_count": 1,
   "metadata": {},
   "outputs": [
    {
     "name": "stdout",
     "output_type": "stream",
     "text": [
      "\n",
      "Los puntos que desea evaluar en la función son:\n",
      "12.0 45.0 \n",
      "\n",
      "Los valores de los puntos evaluados en la función son:\n",
      "23.0 54.0 \n",
      "\n",
      "Los valores de las respectivas derivadas son:\n",
      "12.0 12.0 \n",
      "\n",
      "El valor interpolado en x = 34.0 es: 43.66666666666667\n"
     ]
    }
   ],
   "source": [
    "def arr(a):\n",
    "    for i in a:\n",
    "        print(i, end=\" \")\n",
    "    print()\n",
    "\n",
    "def hermite(x, y, der, p):\n",
    "    n = len(x)\n",
    "\n",
    "    # Inicializamos la matriz de diferencias divididas\n",
    "    dif_div = [[0] * n for _ in range(n)]\n",
    "\n",
    "    # Llenamos la primera columna con los valores de y\n",
    "    for i in range(n):\n",
    "        dif_div[i][0] = y[i]\n",
    "\n",
    "    # Calculamos las diferencias divididas\n",
    "    for j in range(1, n):\n",
    "        for i in range(n - 1, j - 1, -1):\n",
    "            dif_div[i][j] = (dif_div[i][j - 1] - dif_div[i - 1][j - 1]) / (x[i] - x[i - j])\n",
    "\n",
    "    # Calculamos el término de Hermite\n",
    "    res = dif_div[0][0]\n",
    "    prod_termin = 1\n",
    "\n",
    "    for i in range(1, n):\n",
    "        prod_termin *= (p - x[i - 1])\n",
    "        res += dif_div[i][i] * prod_termin\n",
    "\n",
    "    return res  # Regresamos el resultado\n",
    "\n",
    "if __name__ == \"__main__\":\n",
    "    # Datos de entrada (puntos conocidos)\n",
    "    p_inter = float(input(\"¿Qué punto quiere interpolar? \"))\n",
    "    n = int(input(\"Número de puntos conocidos: \"))\n",
    "\n",
    "    # Arreglos del tamaño n. En el arreglo x se almacenarán los puntos a evaluar.\n",
    "    # En el arreglo y se almacenarán los resultados de evaluar los puntos en la función\n",
    "    # En el arreglo deriv, se almacenarán los valores de las respectivas derivadas en cada punto\n",
    "    x = [float(input(f\"Ingrese el punto {i + 1} que quiere evaluar en la función: \")) for i in range(n)]\n",
    "    y = [float(input(f\"Ingrese el valor del punto {i + 1} evaluado en la función (f(x) o y): \")) for i in range(n)]\n",
    "    deriv = [float(input(f\"Ingrese el valor de la derivada del punto (f'(x)) {i + 1}: \")) for i in range(n)]\n",
    "\n",
    "    # Imprimir los arreglos donde se almacenan sus respectivos valores\n",
    "    print(\"\\nLos puntos que desea evaluar en la función son:\")\n",
    "    arr(x)\n",
    "    print(\"\\nLos valores de los puntos evaluados en la función son:\")\n",
    "    arr(y)\n",
    "    print(\"\\nLos valores de las respectivas derivadas son:\")\n",
    "    arr(deriv)\n",
    "\n",
    "    # Realizar la interpolación\n",
    "    p = hermite(x, y, deriv, p_inter)\n",
    "\n",
    "    # Imprimir el resultado\n",
    "    print(f\"\\nEl valor interpolado en x = {p_inter} es: {p}\")\n"
   ]
  },
  {
   "cell_type": "code",
   "execution_count": null,
   "metadata": {},
   "outputs": [],
   "source": []
  }
 ],
 "metadata": {
  "kernelspec": {
   "display_name": "Python 3",
   "language": "python",
   "name": "python3"
  },
  "language_info": {
   "codemirror_mode": {
    "name": "ipython",
    "version": 3
   },
   "file_extension": ".py",
   "mimetype": "text/x-python",
   "name": "python",
   "nbconvert_exporter": "python",
   "pygments_lexer": "ipython3",
   "version": "3.11.5"
  }
 },
 "nbformat": 4,
 "nbformat_minor": 2
}
