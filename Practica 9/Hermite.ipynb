{
 "cells": [
  {
   "cell_type": "code",
   "execution_count": 3,
   "metadata": {},
   "outputs": [
    {
     "name": "stdout",
     "output_type": "stream",
     "text": [
      "\n",
      "\n",
      "\n",
      "Los puntos que desea evaluar en la funcion son:\n",
      "[1.3 1.6 1.9]\n",
      "Los puntos que desea evaluar en la funcion son:\n",
      "[0.620086  0.4554022 0.2818816]\n",
      "Los puntos que desea evaluar en la funcion son:\n",
      "[-0.5220232 -0.5698959 -0.5811571]\n",
      "\n",
      "El valor interpolado en x = 1.5 es: 0.5112786666666667\n",
      "\n"
     ]
    }
   ],
   "source": [
    "import numpy as np\n",
    "\n",
    "def arr(a):\n",
    "    print(\"Los puntos que desea evaluar en la funcion son:\")\n",
    "    print(a)\n",
    "\n",
    "def Hermite(x, y, der, p):\n",
    "    n = len(x)\n",
    "    \n",
    "    # Inicializamos la matriz de diferencias divididas\n",
    "    dif_div = np.zeros((n, n))\n",
    "\n",
    "    # Llenamos la primera columna con los valores de y\n",
    "    for i in range(n):\n",
    "        dif_div[i, 0] = y[i]\n",
    "\n",
    "    # Calculamos las diferencias divididas\n",
    "    for j in range(1, n):\n",
    "        for i in range(n-1, j-1, -1):\n",
    "            dif_div[i, j] = (dif_div[i, j-1] - dif_div[i-1, j-1]) / (x[i] - x[i-j])\n",
    "\n",
    "    # Calculamos el término de Hermite\n",
    "    res = dif_div[0, 0]\n",
    "    prod_termin = 1\n",
    "\n",
    "    for i in range(1, n):\n",
    "        prod_termin *= (p - x[i-1])\n",
    "        res += dif_div[i, i] * prod_termin\n",
    "\n",
    "    return res\n",
    "\n",
    "if __name__ == \"__main__\":\n",
    "    pInter = float(input(\"Ingrese el punto que desea interpolar: \"))\n",
    "\n",
    "    n = int(input(\"Numero de puntos que se conocen: \"))\n",
    "    x = np.zeros(n)\n",
    "    y = np.zeros(n)\n",
    "    deriv = np.zeros(n)\n",
    "\n",
    "    for i in range(n):\n",
    "        x[i] = float(input(f\"Ingrese el punto {i+1} que quiere evaluar en la funcion: \"))\n",
    "\n",
    "    print()\n",
    "\n",
    "    for i in range(n):\n",
    "        y[i] = float(input(f\"Ingrese el valor del punto {i+1} evaluado en la funcion (f(x) o y): \"))\n",
    "\n",
    "    print()\n",
    "\n",
    "    for i in range(n):\n",
    "        deriv[i] = float(input(f\"Ingrese el valor de la derivada del punto (f'(x)) {i+1}: \"))\n",
    "\n",
    "    print()\n",
    "\n",
    "    arr(x)\n",
    "    arr(y)\n",
    "    arr(deriv)\n",
    "\n",
    "    p = Hermite(x, y, deriv, pInter)\n",
    "\n",
    "    print(f\"\\nEl valor interpolado en x = {pInter} es: {p}\\n\")\n"
   ]
  },
  {
   "cell_type": "code",
   "execution_count": null,
   "metadata": {},
   "outputs": [],
   "source": []
  }
 ],
 "metadata": {
  "kernelspec": {
   "display_name": "Python 3",
   "language": "python",
   "name": "python3"
  },
  "language_info": {
   "codemirror_mode": {
    "name": "ipython",
    "version": 3
   },
   "file_extension": ".py",
   "mimetype": "text/x-python",
   "name": "python",
   "nbconvert_exporter": "python",
   "pygments_lexer": "ipython3",
   "version": "3.11.5"
  }
 },
 "nbformat": 4,
 "nbformat_minor": 2
}
